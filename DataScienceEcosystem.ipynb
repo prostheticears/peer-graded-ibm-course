{
 "cells": [
  {
   "cell_type": "markdown",
   "id": "1f90f559-72a7-4d45-aa1d-b19200ef35ba",
   "metadata": {},
   "source": [
    "# Data Science Tools and Ecosystem"
   ]
  },
  {
   "cell_type": "markdown",
   "id": "333015da-9c32-4d6c-8672-782c40d86acb",
   "metadata": {},
   "source": [
    "## Author\n",
    "John Lukasavage"
   ]
  },
  {
   "cell_type": "markdown",
   "id": "89f129ea-3629-4e6c-87c4-13a9cfd37945",
   "metadata": {},
   "source": [
    "In this notebook, Data Science Tools and Ecosystem are summarized."
   ]
  },
  {
   "cell_type": "markdown",
   "id": "90eb355f-edb0-4287-aad7-675bb2506f4f",
   "metadata": {},
   "source": [
    "__Objectives:__\n",
    "\n",
    "- List popular languages for data science\n",
    "- List commonly used libraries\n",
    "- Present a table of data science tools\n",
    "- Demonstrate simple arithmetic in a Jupyter notebook"
   ]
  },
  {
   "cell_type": "markdown",
   "id": "b193946d-3a27-49df-a408-1362b3889432",
   "metadata": {},
   "source": [
    "Some of the popular languages that Data Scientists use are:"
   ]
  },
  {
   "cell_type": "markdown",
   "id": "25ca11d6-c303-4d6a-b656-d4492e38a27f",
   "metadata": {},
   "source": [
    "1. Python\n",
    "1. R\n",
    "1. SQL"
   ]
  },
  {
   "cell_type": "markdown",
   "id": "52af8007-5e0f-46db-8d95-c786863c8467",
   "metadata": {},
   "source": [
    "Some of the commonly used libraries used by Data Scientists include:"
   ]
  },
  {
   "cell_type": "markdown",
   "id": "c32043e3-b805-4f19-be25-322af6a70c2f",
   "metadata": {},
   "source": [
    "1. Pandas\n",
    "1. NumPy\n",
    "1. PyTorch\n",
    "1. Matplotlib"
   ]
  },
  {
   "cell_type": "markdown",
   "id": "8010882e-e1d4-4ee5-bf07-b315f90f6cd1",
   "metadata": {},
   "source": [
    "| Data Science Tools |\n",
    "| Jupyter | \n",
    "| GitHub | \n",
    "| RStudio | \n"
   ]
  },
  {
   "cell_type": "markdown",
   "id": "7b98e3ad-a2ba-4fd3-a4cb-6766d0322ea0",
   "metadata": {},
   "source": [
    "### Below are a few examples of evaluating arithmetic expressions in Python"
   ]
  },
  {
   "cell_type": "code",
   "execution_count": 8,
   "id": "700c7d63-f897-4f09-a13a-018d13c74443",
   "metadata": {},
   "outputs": [
    {
     "data": {
      "text/plain": [
       "17"
      ]
     },
     "execution_count": 8,
     "metadata": {},
     "output_type": "execute_result"
    }
   ],
   "source": [
    "#This a simple arithmetic expression to mutiply then add integers\n",
    "(3*4)+5"
   ]
  },
  {
   "cell_type": "code",
   "execution_count": 1,
   "id": "9e098e7a-e812-40e4-adbe-221046e76d83",
   "metadata": {},
   "outputs": [
    {
     "data": {
      "text/plain": [
       "3.3333333333333335"
      ]
     },
     "execution_count": 1,
     "metadata": {},
     "output_type": "execute_result"
    }
   ],
   "source": [
    "#This will convert 200 minutes to hours by dividing by 60\n",
    "200/60"
   ]
  },
  {
   "cell_type": "code",
   "execution_count": null,
   "id": "72f07fae-3322-430c-9af3-b5b50a953ecc",
   "metadata": {},
   "outputs": [],
   "source": []
  },
  {
   "cell_type": "code",
   "execution_count": null,
   "id": "7fe26a00-e694-4e61-9e68-9b2a76b055ec",
   "metadata": {},
   "outputs": [],
   "source": []
  }
 ],
 "metadata": {
  "kernelspec": {
   "display_name": "Python",
   "language": "python",
   "name": "conda-env-python-py"
  },
  "language_info": {
   "codemirror_mode": {
    "name": "ipython",
    "version": 3
   },
   "file_extension": ".py",
   "mimetype": "text/x-python",
   "name": "python",
   "nbconvert_exporter": "python",
   "pygments_lexer": "ipython3",
   "version": "3.7.12"
  }
 },
 "nbformat": 4,
 "nbformat_minor": 5
}
